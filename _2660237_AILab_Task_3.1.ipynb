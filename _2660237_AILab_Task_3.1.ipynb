{
 "cells": [
  {
   "cell_type": "markdown",
   "id": "c9d25584",
   "metadata": {},
   "source": [
    "GUID: 2660237\n",
    "GitHub Link: [\"Github\"](https://github.com/Natasha-Warder/AI.Python.github.io.-)."
   ]
  },
  {
   "cell_type": "markdown",
   "id": "a372e165",
   "metadata": {},
   "source": [
    "\n",
    "# Task 3.1 - Using IPython.display to display images and audio\n",
    "\n",
    "By displaying the specified image (\"picture1.jpg\") in the notebook's output. This allows you to easily include images as part of your interactive documents or notebooks for data visualisation, documentation, or other purposes. The applications of IPython multimedia display are extensive but here are a few examples: \n",
    "\n",
    "- game development:Could use IPython.display to preview and display game assets (e.g., images and sound effects) directly in your development environment, allowing you to quickly iterate on game design.\n",
    "\n",
    "- machine learning project: Could use display images of training data, validation data, or sample outputs of your models.\n",
    "\n",
    "- Scientists: Could use IPython.display to visualize research data and results, such as spectrograms, microscopy images, or any scientific data that can be represented as images or audio for sharing research findings and collaborating with peers.\n"
   ]
  },
  {
   "cell_type": "code",
   "execution_count": null,
   "id": "ee249dac",
   "metadata": {},
   "outputs": [],
   "source": [
    "\n",
    "from IPython.display import Image\n",
    "Image(\"picture1.jpg\")\n",
    "\n",
    "#the class 'image' allows you to specify a file path 'picture1.jpg' "
   ]
  },
  {
   "cell_type": "code",
   "execution_count": null,
   "id": "d5e8b6e7",
   "metadata": {},
   "outputs": [],
   "source": [
    "from IPython.display import Audio\n",
    "Audio(\"audio1.mid\")\n",
    "\n",
    "#like an image the same functions are applied to audio, with an 'mid' file type. \n",
    "#this file type does not run\n"
   ]
  },
  {
   "cell_type": "markdown",
   "id": "282ddab3",
   "metadata": {},
   "source": [
    "## Reflecting on .mid Audio\n",
    "\n",
    "The audio1.mid file does not play this is because the web browser doesn't support the mid file type and musical instrument digital interface does not carry audio content. "
   ]
  },
  {
   "cell_type": "code",
   "execution_count": null,
   "id": "6eed6e8c",
   "metadata": {},
   "outputs": [],
   "source": [
    "Audio(\"audio2.ogg\")\n",
    "\n",
    "#This file is licensed under the Creative Commons Attribution-Share Alike 3.0 Unported license.\n",
    "#You are free: \n",
    "#•\tto share – to copy, distribute and transmit the work\n",
    "#•\tto remix – to adapt the work\n",
    "\n",
    "#Under the following conditions: \n",
    "#•\tattribution – You must give appropriate credit, provide a link to the license, and indicate if changes were made. You may do so in any reasonable manner, but not in any way that suggests the licensor endorses you or your use.\n",
    "#•\tshare alike – If you remix, transform, or build upon the material, you must distribute your contributions under the same or compatible license as the original.\n",
    "#The original ogg file was found at the url: \n",
    "#https://en.wikipedia.org/wiki/File:GoldbergVariations_MehmetOkonsar-1of3_Var1to10.ogg\n"
   ]
  },
  {
   "cell_type": "markdown",
   "id": "5a0a644a",
   "metadata": {},
   "source": [
    "## Reflecting on .ogg Audio\n",
    "\n",
    "The OGG format enables multiple bitstreams in a single file and bitstreams listed in the order of the seek time of the audio data. Its good audio quality, efficient compression and wide Compatibility enables external libraries to work with the .ogg audio format. "
   ]
  },
  {
   "cell_type": "markdown",
   "id": "46f4fdc8",
   "metadata": {},
   "source": [
    "# Works Cited\n",
    "\n",
    "FileInfo.com (2019) .Mid file&nbsp;extension, MID File - What is a .mid file and how do I open it? Available at: https://fileinfo.com/extension/mid (Accessed: 05 November 2023). \n",
    "\n",
    "Fogel, K. (2023) Why audio format matters - GNU Project - Free Software Foundation, &nbsp;[A GNU head]&nbsp;. Available at: https://www.gnu.org/philosophy/why-audio-format-matters.html#:~:text=It%20gets%20high%20sound%20quality,your%20audio%20in%20Ogg%20Vorbis. (Accessed: 05 November 2023). \n",
    "\n",
    "Wikipedia (2023) Ogg, Wikipedia. Available at: https://en.wikipedia.org/wiki/Ogg (Accessed: 05 November 2023). "
   ]
  }
 ],
 "metadata": {
  "kernelspec": {
   "display_name": "Python 3 (ipykernel)",
   "language": "python",
   "name": "python3"
  },
  "language_info": {
   "codemirror_mode": {
    "name": "ipython",
    "version": 3
   },
   "file_extension": ".py",
   "mimetype": "text/x-python",
   "name": "python",
   "nbconvert_exporter": "python",
   "pygments_lexer": "ipython3",
   "version": "3.11.4"
  }
 },
 "nbformat": 4,
 "nbformat_minor": 5
}
