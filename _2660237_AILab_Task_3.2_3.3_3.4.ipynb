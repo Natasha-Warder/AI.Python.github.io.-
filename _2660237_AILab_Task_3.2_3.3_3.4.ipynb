{
 "cells": [
  {
   "cell_type": "markdown",
   "id": "b70b5739",
   "metadata": {},
   "source": [
    "GUID: 2660237\n",
    "GitHub Link: [\"Github\"](https://github.com/Natasha-Warder/AI.Python.github.io.-)."
   ]
  },
  {
   "cell_type": "markdown",
   "id": "a372e165",
   "metadata": {},
   "source": [
    "# Task 3.2 - Using the matplotlib library to look at picture as numerical data\n",
    "\"Matplotlib is a popular Python library for creating static, animated, and interactive visualizations.\" The pyplot module provides a simple and convenient interface for creating various types of plots and charts.\n",
    "\n",
    "## Applications seen in completed tasks: \n",
    "- Matplotlib is extensively used in data science and data analysis to create visualizations such as line plots, scatter plots, bar charts, and histograms for exploring and understanding datasets.\n",
    "- Image processing tasks often involve creating visualizations of images, which Matplotlib can facilitate.\n"
   ]
  },
  {
   "cell_type": "code",
   "execution_count": null,
   "id": "39e052d8",
   "metadata": {
    "scrolled": true
   },
   "outputs": [],
   "source": [
    "from matplotlib import pyplot \n",
    "test_picture = pyplot.imread(\"picture1.jpg\")\n",
    "print(\"Numpy array of the image is: \", test_picture)\n",
    "pyplot.imshow(test_picture)\n",
    "\n",
    "#This line uses pyplot.imshow() to display the image stored in the test_picture variable. \n",
    "#It opens a window displaying the image."
   ]
  },
  {
   "cell_type": "markdown",
   "id": "a7ad7e4e",
   "metadata": {},
   "source": [
    "## Manipulating Values In The Array\n",
    "The code reads an image, applies a simple scaling operation to change its appearance. This shows both the original and the processed image. "
   ]
  },
  {
   "cell_type": "code",
   "execution_count": null,
   "id": "aa633841",
   "metadata": {},
   "outputs": [],
   "source": [
    "from matplotlib import pyplot \n",
    "test_picture = pyplot.imread(\"picture1.jpg\")\n",
    "print(\"Numpy array of the image is: \", test_picture)\n",
    "\n",
    "#This line scales the pixel values in the test_picture array by multiplying them by 2/3.\n",
    "test_picture_filtered = 2*test_picture/3\n",
    "#This operation effectively darkens the image since all pixel values are reduced. \n",
    "\n",
    "pyplot.imshow(test_picture_filtered)"
   ]
  },
  {
   "cell_type": "markdown",
   "id": "5d60c73f",
   "metadata": {},
   "source": [
    "## Applications of an Manipulated Array\n",
    "\n",
    " - Image Enhancement: to enhance the visual quality of images by adjusting the brightness or contrast. It can be applied in photo editing software or automated image processing. \n",
    " \n",
    " - Image Preprocessing in Computer Vision: object detection or image classification,to preprocess images to improve their suitability for machine learning models.\n",
    " \n",
    " - Real-time Image Processing: video processing or live camera feeds,  to enhance and adjust image quality in real time.\n",
    " \n"
   ]
  },
  {
   "cell_type": "markdown",
   "id": "7462f230",
   "metadata": {},
   "source": [
    "##  Task 3.3\n",
    "Scikit-learn is an open-source machine learning library for Python. It provides a wide range of machine learning algorithms and tools for tasks such as:\n",
    "1. Classification and regression problems.\n",
    "2. Clustering and dimensionality reduction.\n",
    "3. Natural language processing (NLP) and text analysis.\n",
    "4. Image and video analysis.\n",
    "5. Recommender systems.\n",
    "6. Anomaly detection.\n",
    "7. Predictive modeling in various domains"
   ]
  },
  {
   "cell_type": "code",
   "execution_count": null,
   "id": "e45d3207",
   "metadata": {},
   "outputs": [],
   "source": [
    "from sklearn import datasets\n",
    "#These datasets are useful for learning, experimentation, and developing machine learning models without the need to collect or load your own data."
   ]
  },
  {
   "cell_type": "code",
   "execution_count": null,
   "id": "4d70ad5e",
   "metadata": {},
   "outputs": [],
   "source": [
    "dir(datasets)"
   ]
  },
  {
   "cell_type": "code",
   "execution_count": null,
   "id": "4678ba70",
   "metadata": {},
   "outputs": [],
   "source": [
    "iris_data = datasets.load_iris()\n",
    "#a dataset containing measurements of sepal and petal lengths and widths of three species of iris flowers\n",
    "#often used for classification tasks."
   ]
  },
  {
   "cell_type": "code",
   "execution_count": null,
   "id": "21a2aedc",
   "metadata": {},
   "outputs": [],
   "source": [
    "iris_data.DESCR\n",
    "#the DESCR attribute provides a description of the dataset.\n",
    "#information about the dataset's source, features, and target variable. "
   ]
  },
  {
   "cell_type": "code",
   "execution_count": null,
   "id": "6061d20d",
   "metadata": {},
   "outputs": [],
   "source": [
    "print (iris_data.DESCR)\n",
    "#print the description of the Iris dataset to the console"
   ]
  },
  {
   "cell_type": "code",
   "execution_count": null,
   "id": "96567edd",
   "metadata": {},
   "outputs": [],
   "source": [
    "iris_data.feature_names\n",
    "#feature names are useful for understanding the dataset\n",
    "#for referencing the specific attributes when working with the data in machine learning or data analysis tasks."
   ]
  },
  {
   "cell_type": "code",
   "execution_count": null,
   "id": "33aac0e3",
   "metadata": {},
   "outputs": [],
   "source": [
    "iris_data.target_names\n",
    "#scikit-learn's Iris dataset provides the names of the classes\n",
    "#categories that correspond to the target variable in the dataset\n",
    "#the Iris dataset is commonly used for classification tasks\n",
    "#the target variable represents the species of iris flowers"
   ]
  },
  {
   "cell_type": "code",
   "execution_count": null,
   "id": "9a17f472",
   "metadata": {},
   "outputs": [],
   "source": [
    "iris_data.keys()\n",
    "#print the keys and their corresponding attributes\n",
    "#attributes provide information about the dataset's features, target variable, feature names, target names, and a description of the dataset"
   ]
  },
  {
   "cell_type": "markdown",
   "id": "33618d50",
   "metadata": {},
   "source": [
    "#  Task 3.4 - Basic Data Exploration with Pandas\n",
    "To create a Pandas DataFrame. You provide the data from the 'data' attribute of iris_data as well as the column names from the 'feature_names' attribute. This creates a tabular representation of the dataset in a DataFrame.\n",
    "\n",
    "This DataFrame enables data analysis tasks. This presents the data in a readable format for tasks like visualisation, data preprocessing, and machine learning modeling. \n",
    "\n",
    "In this case, the column names in the DataFrame correspond to the features of the Iris dataset, making it convenient for analysis and modeling.\n"
   ]
  },
  {
   "cell_type": "code",
   "execution_count": null,
   "id": "5bed00aa",
   "metadata": {},
   "outputs": [],
   "source": [
    "from sklearn import datasets\n",
    "import pandas\n",
    "\n",
    "iris_data = datasets.load_iris()\n",
    "\n",
    "iris_dataframe = pandas.DataFrame(data=iris_data['data'], columns = iris_data['feature_names'])"
   ]
  },
  {
   "cell_type": "code",
   "execution_count": null,
   "id": "f515f33d",
   "metadata": {},
   "outputs": [],
   "source": [
    "iris_dataframe.head()"
   ]
  },
  {
   "cell_type": "code",
   "execution_count": null,
   "id": "a648f7ce",
   "metadata": {},
   "outputs": [],
   "source": [
    "iris_dataframe.describe()"
   ]
  },
  {
   "cell_type": "markdown",
   "id": "3cc596c1",
   "metadata": {},
   "source": [
    " # Task 3.5 Bias and Datasets\n",
    "\n",
    "\n",
    "Test data used to train the AI algorithm are taken from data created by humans, therefore human bias is transferred to the AI system because this is the 'real-life' data used to train itself.\n",
    "\n",
    "It is important to make sure sensitive data features like: gender, ethnicity (etc) and their correlations are addressed.\n",
    "\n",
    "It is important to make sure appropriate data-labeling methods are used.\n"
   ]
  }
 ],
 "metadata": {
  "kernelspec": {
   "display_name": "Python 3 (ipykernel)",
   "language": "python",
   "name": "python3"
  },
  "language_info": {
   "codemirror_mode": {
    "name": "ipython",
    "version": 3
   },
   "file_extension": ".py",
   "mimetype": "text/x-python",
   "name": "python",
   "nbconvert_exporter": "python",
   "pygments_lexer": "ipython3",
   "version": "3.11.4"
  }
 },
 "nbformat": 4,
 "nbformat_minor": 5
}
