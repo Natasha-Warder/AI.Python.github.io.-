{
 "cells": [
  {
   "cell_type": "markdown",
   "id": "b0257dba",
   "metadata": {},
   "source": [
    "GUID: 2660237\n",
    "GitHub Link: [\"Github\"](https://github.com/Natasha-Warder/AI.Python.github.io.-)."
   ]
  },
  {
   "cell_type": "markdown",
   "id": "1ec9c5c8",
   "metadata": {},
   "source": [
    "# Task 1.3 - Intro to Python, Anaconda & Jupyter Notebook\n",
    "\n",
    "Excercise to familiarise myself with Jupyter Notebook and its relationship to Python.\n",
    "\n",
    "a) I chose this course to familiarise myself with new coding languages and learn to navigate new software. I'm hoping that studying AI and engaging in practical work will help me to created informed opinions about AI advancements and apply knowledge to other areas of passion such as web design, digitised art and communications. \n",
    "\n",
    "b)I have limited exposure to AI as an academic subject or using a language like Python. Although I'm practically unfamiliar with this topic, I have a personal interest in the function of neural networks and knowledge based systems impact beyond digital environments. \n",
    "\n",
    "c)My expectations for this course are:\n",
    "- to learn basic python\n",
    "- to adequately navigate anaconda and Jupyter notebook\n",
    "- to understand the function of practical work within real life scenarios \n",
    "- to link ideas about AI to other areas of information studies this year\n",
    "- to read more about the positive and negative developments/impacts of AI\n",
    "\n",
    "I am planning to annotate my code using links, comments and markdown cells (body of text) to explain what is being coded, how it functions and why it is formatted that way. "
   ]
  },
  {
   "cell_type": "markdown",
   "id": "2e2b7eb5",
   "metadata": {},
   "source": [
    "# Task 1.4 - First Coding Cell \n",
    "\n",
    "The function of this cell is to a print message. This is enabled by changing the cell type to 'code'. The Python print() function takes in any number of parameters, and prints them out on one line of text onto the standard output device.\n",
    "\n",
    "The function of a string can be applied to processes which involve text processing and data representation. Matching strings form the basis of multitude of machine processes to detect spam mail, regulate search engines, retrieve information etc. \n",
    "\n",
    "For further applications of string matching: https://www.geeksforgeeks.org/applications-advantages-and-disadvantages-of-string/\n"
   ]
  },
  {
   "cell_type": "code",
   "execution_count": null,
   "id": "84856d7a",
   "metadata": {},
   "outputs": [],
   "source": [
    "message = \"Hello, World!\"\n",
    "\n",
    "print (message)\n",
    "\n",
    "#the string or data prototype 'hello world', operates within quotation marks.\n",
    "#the purpose of strings is to communicate information from a computer program to the user of the program.\n",
    "#Human-Readable text."
   ]
  },
  {
   "cell_type": "markdown",
   "id": "c6889960",
   "metadata": {},
   "source": [
    "# Altering The Variable\n",
    "\n",
    "By changing the value of 'message' being printed, this presents the output in varying quantities. The excercises below show the string added and multiplied as well as numerically identifying a character within the string. \n",
    "\n",
    "Firstly, it is important to recognise a Python string object is immutable. So when using + operator to concatenate two strings, a new string is created.\n",
    "\n",
    "Multiplying the string can be useful when you want to perform a specific operation on each element of a list. The function takes a list as input and iterates through each element, multiplying it by 2 and printing the result. If the input is not a list, the function raises a TypeError.\n",
    "\n",
    "The ability to identify a specific character within a string means further applications like counting the number of occurrences of a character in a string, pattern identification. \n"
   ]
  },
  {
   "cell_type": "code",
   "execution_count": null,
   "id": "f24ff2fe",
   "metadata": {},
   "outputs": [],
   "source": [
    "message = \"How are you? \"\n",
    "\n",
    "print (message + message)"
   ]
  },
  {
   "cell_type": "code",
   "execution_count": null,
   "id": "a7f3a663",
   "metadata": {},
   "outputs": [],
   "source": [
    "message = \"How are you? \"\n",
    "\n",
    "print (message*3)"
   ]
  },
  {
   "cell_type": "code",
   "execution_count": null,
   "id": "28ccade9",
   "metadata": {},
   "outputs": [],
   "source": [
    "message = \"Hello there!\"\n",
    "\n",
    "print (message[4])"
   ]
  },
  {
   "cell_type": "markdown",
   "id": "7fc668b7",
   "metadata": {},
   "source": [
    "# Task 1.5\n",
    "Try changing the value of message to print out your own greeting.\n",
    "•\tWhat happens when you print message + message? What is your output?\n",
    "•\tWhat happens when you print message*3? What is your output?\n",
    "•\tWhat happens when you print message [0]? What is your output? Why? What if you change 0 to a different number?\n",
    "•\tDo you think message is a good variable name? If you should change it, you need to change the line with the print function. How would you change it to get it to print out the value of the newly named variable? Note: the code will remember the value of the previous variable message – so don’t be fooled into thinking it works without changing the print commend.\n"
   ]
  },
  {
   "cell_type": "markdown",
   "id": "e9ed202c",
   "metadata": {},
   "source": [
    "# Task 1.6.7 - Displaying a Video\n",
    "Importing libraries to display an alternative media format allowed me to consider how Jupyter notebook can be used to convey content in a variety of ways. \n",
    "The function of the video relies on the base IFrame which is a class for embedding a YouTube Video in an IPython session, based on its video id.\n",
    "\n",
    "## Video Data Retrieval \n",
    "\n",
    "- To improve the display of the video it is possible to To start from 30 seconds:\n",
    "vid = YouTubeVideo(\"abc\", start=30)\n",
    "display(vid)\n",
    "\n",
    "- To calculate seconds from time as hours, minutes, seconds it is possible to use datetime.timedelta:\n",
    "start=int(timedelta(hours=1, minutes=46, seconds=40).total_seconds())\n",
    "\n",
    "Retrieving data can be used to log reoccurences or identify patterns within content. \n",
    "\n",
    "- Further applications of IPython Display include HTML intergration for dynamic content presentation, or widget integration to improve user interactivity. \n",
    "\n"
   ]
  },
  {
   "cell_type": "code",
   "execution_count": null,
   "id": "c7853e7f",
   "metadata": {},
   "outputs": [],
   "source": [
    "from IPython.display import * \n",
    "YouTubeVideo(\"BrWOEofKfZs\")\n",
    "\n",
    "#content chosen relevant to first task, 'hello' in different languages. "
   ]
  },
  {
   "cell_type": "markdown",
   "id": "84f97b2e",
   "metadata": {},
   "source": [
    "# Parsing and Reading\n",
    "\n",
    "As input this program takes a site URL and date. The purpose of this data is to search the Internet Archive for a version closest to the date specified making this data human-readable. Finally, displaying it on the users browser.\n",
    "\n",
    "Why parsing? \n",
    "- Today, there is a wide variety of data formats. Some data formats are better suited to different applications. \n",
    "- An individual program can only be expected to cater for a selection of these data formats.\n",
    "- There is a need to convert data from one format to another for consumption by different programs.\n"
   ]
  },
  {
   "cell_type": "code",
   "execution_count": null,
   "id": "c4e58536",
   "metadata": {},
   "outputs": [],
   "source": [
    "import webbrowser\n",
    "import requests\n",
    "\n",
    "#this is printing\n",
    "print(\"Shall we hunt down an old website?\")\n",
    "site = input(\"Type a website URL: \")\n",
    "era = input(\"Type year, month, and date, e.g., 20150613: \")\n",
    "url = \"http://archive.org/wayback/available?url=%s&timestamp=%s\" % (site, era)\n",
    "response = requests.get(url)\n",
    "data = response.json()\n",
    "try:\n",
    "    old_site = data[\"archived_snapshots\"][\"closest\"][\"url\"]\n",
    "    print(\"Found this copy: \", old_site)\n",
    "    print(\"It should appear in your browser.\")\n",
    "    webbrowser.open(old_site)\n",
    "except:\n",
    "    print(\"Sorry, could not find the site.\")\n"
   ]
  },
  {
   "cell_type": "markdown",
   "id": "085f274a",
   "metadata": {},
   "source": [
    "## Task data\n",
    "\n",
    "Key resource: https://pieriantraining.com/parsing-data-in-python-a-tutorial-for-beginners/#:~:text=In%20Python%20programming%2C%20data%20parsing,convert%20them%20into%20usable%20formats.\n",
    "\n",
    "### How many libraries were imported: \n",
    "- webbrowser: This module is used to open a web browser to display the archived website when a snapshot is found.\n",
    "- requests: This module is used to send an HTTP GET request to the Internet Archive's Wayback Machine API and retrieve the response.\n",
    "\n",
    "\n",
    "### How many variables were used:\n",
    "- site: Stores the user input for the website URL.\n",
    "- era: Stores the user input for the date (in the format YYYYMMDD).\n",
    "- url: Stores the URL constructed for the Wayback Machine request.\n",
    "- response: Stores the response from the Wayback Machine.\n",
    "- data: Stores the JSON data extracted from the Wayback Machine response.\n",
    "- old_site: Stores the URL of the closest archived snapshot of the website (if found).\n",
    "\n",
    "### How many strings appear in the programme: \n",
    "\"Shall we hunt down an old website?\"\n",
    "\"Type a website URL: \"\n",
    "\"Type year, month, and date, e.g., 20150613: \"\n",
    "\"http://archive.org/wayback/available?url=%s&timestamp=%s\"\n",
    "\"Found this copy: \"\n",
    "\"It should appear in your browser.\"\n",
    "\"Sorry, could not find the site.\"\n",
    "\n",
    "### How many times something was printed?\n",
    "1. The initial message \"Shall we hunt down an old website?\" is printed at the beginning of the code.\n",
    "2. If an archived snapshot is found, the message \"Found this copy:\" is printed, followed by the URL of the archived site.\n",
    "3. If no snapshot is found, the message \"Sorry, could not find the site.\" is printed to indicate that the site couldn't be found in the Wayback Machine archives.\n"
   ]
  }
 ],
 "metadata": {
  "kernelspec": {
   "display_name": "Python 3 (ipykernel)",
   "language": "python",
   "name": "python3"
  },
  "language_info": {
   "codemirror_mode": {
    "name": "ipython",
    "version": 3
   },
   "file_extension": ".py",
   "mimetype": "text/x-python",
   "name": "python",
   "nbconvert_exporter": "python",
   "pygments_lexer": "ipython3",
   "version": "3.11.4"
  }
 },
 "nbformat": 4,
 "nbformat_minor": 5
}
